{
 "cells": [
  {
   "cell_type": "code",
   "execution_count": 1,
   "metadata": {},
   "outputs": [
    {
     "name": "stderr",
     "output_type": "stream",
     "text": [
      "c:\\Users\\Abdul Manaf\\AppData\\Local\\Programs\\Python\\Python39\\lib\\site-packages\\scipy\\__init__.py:155: UserWarning: A NumPy version >=1.18.5 and <1.25.0 is required for this version of SciPy (detected version 1.26.4\n",
      "  warnings.warn(f\"A NumPy version >={np_minversion} and <{np_maxversion}\"\n"
     ]
    }
   ],
   "source": [
    "import os\n",
    "import pickle\n",
    "import numpy as np\n",
    "import seaborn as sns\n",
    "import tensorflow as tf\n",
    "import matplotlib.pyplot as plt\n",
    "from keras.utils import Sequence\n",
    "from keras.models import Sequential\n",
    "from keras.models import load_model\n",
    "from keras.applications import MobileNet\n",
    "from keras.layers import Dense, Flatten, Dropout\n",
    "from sklearn.metrics import confusion_matrix, classification_report"
   ]
  },
  {
   "cell_type": "code",
   "execution_count": 2,
   "metadata": {},
   "outputs": [
    {
     "name": "stdout",
     "output_type": "stream",
     "text": [
      "Num GPUs Available:  2\n"
     ]
    }
   ],
   "source": [
    "print(\"Num GPUs Available: \", len(tf.config.experimental.list_physical_devices('GPU')))"
   ]
  },
  {
   "cell_type": "code",
   "execution_count": 3,
   "metadata": {},
   "outputs": [],
   "source": [
    "batch_size = 64\n",
    "dataset_code = 'AIDER'\n",
    "model_name = 'MobileNet'\n",
    "data_saved_dir = r'E:\\Disaster\\AIDER\\\\pickle\\\\'\n",
    "model_saved_dir = r'E:\\Disaster\\\\runs\\\\'\n",
    "train_data_path = f'{data_saved_dir}\\\\train_data.pkl'\n",
    "val_data_path = f'{data_saved_dir}\\\\val_data.pkl'\n",
    "test_data_path = f'{data_saved_dir}\\\\test_data.pkl'"
   ]
  },
  {
   "cell_type": "code",
   "execution_count": 4,
   "metadata": {},
   "outputs": [
    {
     "name": "stdout",
     "output_type": "stream",
     "text": [
      "Training images: (4501, 256, 256, 3)\n",
      "Validation images: (965, 256, 256, 3)\n",
      "Testing images: (967, 256, 256, 3)\n"
     ]
    }
   ],
   "source": [
    "def load_pickle(file_path):\n",
    "    with open(file_path, 'rb') as f:\n",
    "        data = pickle.load(f)\n",
    "    return data\n",
    "\n",
    "train_images, train_labels = load_pickle(train_data_path)\n",
    "val_images, val_labels = load_pickle(val_data_path)\n",
    "test_images, test_labels = load_pickle(test_data_path)\n",
    "\n",
    "print(f'Training images: {train_images.shape}')\n",
    "print(f'Validation images: {val_images.shape}')\n",
    "print(f'Testing images: {test_images.shape}')"
   ]
  },
  {
   "cell_type": "code",
   "execution_count": 5,
   "metadata": {},
   "outputs": [
    {
     "data": {
      "text/plain": [
       "array([[[0.58431375, 0.5764706 , 0.627451  ],\n",
       "        [0.59607846, 0.5803922 , 0.6392157 ],\n",
       "        [0.6117647 , 0.5764706 , 0.6431373 ],\n",
       "        ...,\n",
       "        [0.22352941, 0.11372549, 0.10196079],\n",
       "        [0.28235295, 0.21568628, 0.1764706 ],\n",
       "        [0.3529412 , 0.30588236, 0.2509804 ]],\n",
       "\n",
       "       [[0.6       , 0.58431375, 0.6392157 ],\n",
       "        [0.59607846, 0.57254905, 0.627451  ],\n",
       "        [0.5921569 , 0.56078434, 0.61960787],\n",
       "        ...,\n",
       "        [0.30980393, 0.2       , 0.1882353 ],\n",
       "        [0.34117648, 0.27450982, 0.23529412],\n",
       "        [0.42352942, 0.3764706 , 0.3137255 ]],\n",
       "\n",
       "       [[0.5882353 , 0.5568628 , 0.60784316],\n",
       "        [0.58431375, 0.5529412 , 0.59607846],\n",
       "        [0.5686275 , 0.5254902 , 0.5803922 ],\n",
       "        ...,\n",
       "        [0.3137255 , 0.20392157, 0.19215687],\n",
       "        [0.27058825, 0.20392157, 0.17254902],\n",
       "        [0.39607844, 0.3529412 , 0.28235295]],\n",
       "\n",
       "       ...,\n",
       "\n",
       "       [[0.42352942, 0.41568628, 0.46666667],\n",
       "        [0.39215687, 0.38431373, 0.43529412],\n",
       "        [0.49019608, 0.48235294, 0.53333336],\n",
       "        ...,\n",
       "        [0.47843137, 0.45490196, 0.50980395],\n",
       "        [0.4862745 , 0.45490196, 0.5058824 ],\n",
       "        [0.47058824, 0.45490196, 0.5137255 ]],\n",
       "\n",
       "       [[0.4       , 0.39215687, 0.44313726],\n",
       "        [0.37254903, 0.3647059 , 0.41568628],\n",
       "        [0.4       , 0.39215687, 0.44313726],\n",
       "        ...,\n",
       "        [0.48235294, 0.4745098 , 0.5254902 ],\n",
       "        [0.47058824, 0.44705883, 0.49411765],\n",
       "        [0.4745098 , 0.44705883, 0.50980395]],\n",
       "\n",
       "       [[0.37254903, 0.37254903, 0.41960785],\n",
       "        [0.34509805, 0.34509805, 0.39215687],\n",
       "        [0.3882353 , 0.3882353 , 0.43529412],\n",
       "        ...,\n",
       "        [0.48235294, 0.45882353, 0.5058824 ],\n",
       "        [0.49411765, 0.4745098 , 0.5019608 ],\n",
       "        [0.4627451 , 0.44705883, 0.5058824 ]]], dtype=float32)"
      ]
     },
     "execution_count": 5,
     "metadata": {},
     "output_type": "execute_result"
    }
   ],
   "source": [
    "train_images[0]"
   ]
  },
  {
   "cell_type": "code",
   "execution_count": 6,
   "metadata": {},
   "outputs": [
    {
     "data": {
      "text/plain": [
       "'traffic_incident'"
      ]
     },
     "execution_count": 6,
     "metadata": {},
     "output_type": "execute_result"
    }
   ],
   "source": [
    "train_labels[0]"
   ]
  },
  {
   "cell_type": "code",
   "execution_count": 7,
   "metadata": {},
   "outputs": [
    {
     "name": "stdout",
     "output_type": "stream",
     "text": [
      "One-hot encoded train labels shape: (4501, 5)\n",
      "One-hot encoded validation labels shape: (965, 5)\n",
      "One-hot encoded test labels shape: (967, 5)\n"
     ]
    }
   ],
   "source": [
    "import numpy as np\n",
    "from sklearn.preprocessing import LabelEncoder\n",
    "\n",
    "label_encoder = LabelEncoder()\n",
    "\n",
    "# Function to convert labels into one-hot encoding\n",
    "def one_hot_encode_labels(labels):\n",
    "        \n",
    "    # Fit the label encoder to the labels and transform to integers\n",
    "    integer_labels = label_encoder.fit_transform(labels)\n",
    "    \n",
    "    # Convert the integer labels into one-hot encoding\n",
    "    one_hot_labels = np.zeros((len(labels), len(label_encoder.classes_)))\n",
    "    one_hot_labels[np.arange(len(labels)), integer_labels] = 1\n",
    "    \n",
    "    return one_hot_labels, label_encoder.classes_\n",
    "\n",
    "# Load your dataset (assuming train_labels, val_labels, test_labels are already loaded)\n",
    "train_one_hot, classes = one_hot_encode_labels(train_labels)\n",
    "val_one_hot, _ = one_hot_encode_labels(val_labels)\n",
    "test_one_hot, _ = one_hot_encode_labels(test_labels)\n",
    "\n",
    "# Verify the output\n",
    "print(f\"One-hot encoded train labels shape: {train_one_hot.shape}\")\n",
    "print(f\"One-hot encoded validation labels shape: {val_one_hot.shape}\")\n",
    "print(f\"One-hot encoded test labels shape: {test_one_hot.shape}\")"
   ]
  },
  {
   "cell_type": "code",
   "execution_count": 8,
   "metadata": {},
   "outputs": [
    {
     "data": {
      "text/plain": [
       "array([0., 0., 0., 0., 1.])"
      ]
     },
     "execution_count": 8,
     "metadata": {},
     "output_type": "execute_result"
    }
   ],
   "source": [
    "train_one_hot[0]"
   ]
  },
  {
   "cell_type": "code",
   "execution_count": 9,
   "metadata": {},
   "outputs": [
    {
     "name": "stdout",
     "output_type": "stream",
     "text": [
      "The original label for the one-hot encoding [0. 0. 0. 0. 1.] is: traffic_incident\n"
     ]
    }
   ],
   "source": [
    "# Assuming `label_encoder` was used to encode the labels\n",
    "original_label = label_encoder.inverse_transform([np.argmax(train_one_hot[0])])\n",
    "print(f\"The original label for the one-hot encoding {train_one_hot[0]} is: {original_label[0]}\")"
   ]
  },
  {
   "cell_type": "code",
   "execution_count": 10,
   "metadata": {},
   "outputs": [],
   "source": [
    "import numpy as np\n",
    "from tensorflow.keras.utils import Sequence\n",
    "\n",
    "class CustomDataGenerator(Sequence):\n",
    "    def __init__(self, images, labels, batch_size):\n",
    "        \"\"\"\n",
    "        Initialize the data generator.\n",
    "\n",
    "        :param images: Array of image data\n",
    "        :param labels: One-hot encoded labels\n",
    "        :param batch_size: The number of samples per batch\n",
    "        \"\"\"\n",
    "        self.images = images\n",
    "        self.labels = labels\n",
    "        self.batch_size = batch_size\n",
    "        self.indexes = np.arange(len(self.images))\n",
    "\n",
    "    def __len__(self):\n",
    "        \"\"\"\n",
    "        Denotes the number of batches per epoch\n",
    "        \"\"\"\n",
    "        return int(np.ceil(len(self.images) / self.batch_size))\n",
    "\n",
    "    def __getitem__(self, index):\n",
    "        \"\"\"\n",
    "        Generate one batch of data.\n",
    "\n",
    "        :param index: The batch index\n",
    "        :return: A batch of images and one-hot encoded labels\n",
    "        \"\"\"\n",
    "        start = index * self.batch_size\n",
    "        end = (index + 1) * self.batch_size\n",
    "\n",
    "        # Get the images and labels for the batch\n",
    "        batch_images = self.images[start:end]\n",
    "        batch_labels = self.labels[start:end]\n",
    "\n",
    "        return batch_images, batch_labels\n",
    "\n",
    "# Assuming you have the one-hot encoded labels: train_one_hot, val_one_hot, test_one_hot\n",
    "train_data_generator = CustomDataGenerator(train_images, train_one_hot, batch_size=32)\n",
    "val_data_generator = CustomDataGenerator(val_images, val_one_hot, batch_size=32)\n",
    "test_data_generator = CustomDataGenerator(test_images, test_one_hot, batch_size=32)"
   ]
  },
  {
   "cell_type": "code",
   "execution_count": 11,
   "metadata": {},
   "outputs": [
    {
     "name": "stdout",
     "output_type": "stream",
     "text": [
      "Num GPUs Available:  2\n"
     ]
    }
   ],
   "source": [
    "import tensorflow as tf\n",
    "print(\"Num GPUs Available: \", len(tf.config.experimental.list_physical_devices('GPU')))"
   ]
  },
  {
   "cell_type": "code",
   "execution_count": 12,
   "metadata": {},
   "outputs": [
    {
     "name": "stdout",
     "output_type": "stream",
     "text": [
      "WARNING:tensorflow:`input_shape` is undefined or non-square, or `rows` is not in [128, 160, 192, 224]. Weights for input shape (224, 224) will be loaded as the default.\n",
      "Model: \"sequential\"\n",
      "_________________________________________________________________\n",
      " Layer (type)                Output Shape              Param #   \n",
      "=================================================================\n",
      " mobilenet_1.00_224 (Functio  (None, 8, 8, 1024)       3228864   \n",
      " nal)                                                            \n",
      "                                                                 \n",
      " flatten (Flatten)           (None, 65536)             0         \n",
      "                                                                 \n",
      " dense (Dense)               (None, 2048)              134219776 \n",
      "                                                                 \n",
      " dropout (Dropout)           (None, 2048)              0         \n",
      "                                                                 \n",
      " dense_1 (Dense)             (None, 5)                 10245     \n",
      "                                                                 \n",
      "=================================================================\n",
      "Total params: 137,458,885\n",
      "Trainable params: 134,230,021\n",
      "Non-trainable params: 3,228,864\n",
      "_________________________________________________________________\n"
     ]
    }
   ],
   "source": [
    "mobile_net = MobileNet(include_top=False, weights='imagenet', input_shape=(256, 256, 3))\n",
    "\n",
    "model = Sequential()\n",
    "model.add(mobile_net)\n",
    "\n",
    "for layer in model.layers:\n",
    "    layer.trainable = False\n",
    "\n",
    "model.add(Flatten())\n",
    "model.add(Dense(units=2048, activation='relu'))\n",
    "model.add(Dropout(0.5))\n",
    "model.add(Dense(units=5, activation='softmax'))\n",
    "\n",
    "model.compile(optimizer='adam', loss='categorical_crossentropy', metrics=['accuracy'])\n",
    "\n",
    "model.summary()"
   ]
  },
  {
   "cell_type": "code",
   "execution_count": 13,
   "metadata": {},
   "outputs": [],
   "source": [
    "from keras.callbacks import ModelCheckpoint, EarlyStopping\n",
    "\n",
    "model_dir = f'{model_saved_dir}\\{dataset_code}_{model_name}'\n",
    "if not os.path.exists(model_dir):\n",
    "    os.makedirs(model_dir)\n",
    "else:\n",
    "    print(f'{model_dir} already exists')\n",
    "\n",
    "filename = 'weights-improvement-{epoch:02d}-{val_accuracy:.2f}'\n",
    "filepath = f'{model_dir}\\{dataset_code}_{model_name}-{filename}.keras'  # Change extension to .keras\n",
    "\n",
    "checkpoint = ModelCheckpoint(filepath, monitor='val_accuracy', verbose=1, save_best_only=True, mode='max')\n",
    "\n",
    "early_stop = EarlyStopping(monitor='val_loss', patience=3, verbose=1)\n",
    "\n",
    "callbacks_list = [checkpoint, early_stop]"
   ]
  },
  {
   "cell_type": "code",
   "execution_count": 14,
   "metadata": {},
   "outputs": [
    {
     "name": "stdout",
     "output_type": "stream",
     "text": [
      "Epoch 1/50\n",
      "141/141 [==============================] - ETA: 0s - loss: 9.2621 - accuracy: 0.8411\n",
      "Epoch 1: val_accuracy improved from -inf to 0.92746, saving model to E:\\Disaster\\\\runs\\\\\\AIDER_MobileNet\\AIDER_MobileNet-weights-improvement-01-0.93.keras\n",
      "141/141 [==============================] - 35s 150ms/step - loss: 9.2621 - accuracy: 0.8411 - val_loss: 0.4041 - val_accuracy: 0.9275\n",
      "Epoch 2/50\n",
      "141/141 [==============================] - ETA: 0s - loss: 0.2236 - accuracy: 0.9500\n",
      "Epoch 2: val_accuracy improved from 0.92746 to 0.94508, saving model to E:\\Disaster\\\\runs\\\\\\AIDER_MobileNet\\AIDER_MobileNet-weights-improvement-02-0.95.keras\n",
      "141/141 [==============================] - 20s 137ms/step - loss: 0.2236 - accuracy: 0.9500 - val_loss: 0.2018 - val_accuracy: 0.9451\n",
      "Epoch 3/50\n",
      "141/141 [==============================] - ETA: 0s - loss: 0.1302 - accuracy: 0.9671\n",
      "Epoch 3: val_accuracy improved from 0.94508 to 0.94922, saving model to E:\\Disaster\\\\runs\\\\\\AIDER_MobileNet\\AIDER_MobileNet-weights-improvement-03-0.95.keras\n",
      "141/141 [==============================] - 20s 141ms/step - loss: 0.1302 - accuracy: 0.9671 - val_loss: 0.2480 - val_accuracy: 0.9492\n",
      "Epoch 4/50\n",
      "141/141 [==============================] - ETA: 0s - loss: 0.1071 - accuracy: 0.9742\n",
      "Epoch 4: val_accuracy improved from 0.94922 to 0.95233, saving model to E:\\Disaster\\\\runs\\\\\\AIDER_MobileNet\\AIDER_MobileNet-weights-improvement-04-0.95.keras\n",
      "141/141 [==============================] - 20s 139ms/step - loss: 0.1071 - accuracy: 0.9742 - val_loss: 0.2121 - val_accuracy: 0.9523\n",
      "Epoch 5/50\n",
      "141/141 [==============================] - ETA: 0s - loss: 0.0828 - accuracy: 0.9804\n",
      "Epoch 5: val_accuracy improved from 0.95233 to 0.95648, saving model to E:\\Disaster\\\\runs\\\\\\AIDER_MobileNet\\AIDER_MobileNet-weights-improvement-05-0.96.keras\n",
      "141/141 [==============================] - 19s 134ms/step - loss: 0.0828 - accuracy: 0.9804 - val_loss: 0.2880 - val_accuracy: 0.9565\n",
      "Epoch 5: early stopping\n"
     ]
    }
   ],
   "source": [
    "history = model.fit(train_data_generator, epochs=50, validation_data=val_data_generator, callbacks = callbacks_list)"
   ]
  },
  {
   "cell_type": "code",
   "execution_count": 15,
   "metadata": {},
   "outputs": [
    {
     "data": {
      "image/png": "[encoded data removed]",
      "text/plain": [
       "<Figure size 800x800 with 1 Axes>"
      ]
     },
     "metadata": {},
     "output_type": "display_data"
    },
    {
     "data": {
      "text/plain": [
       "<Figure size 640x480 with 0 Axes>"
      ]
     },
     "metadata": {},
     "output_type": "display_data"
    },
    {
     "data": {
      "image/png": "[encoded data removed]",
      "text/plain": [
       "<Figure size 800x800 with 1 Axes>"
      ]
     },
     "metadata": {},
     "output_type": "display_data"
    }
   ],
   "source": [
    "plt.figure(figsize=(8,8))\n",
    "plt.plot(history.history['loss'], color='b', label=\"Training loss\")\n",
    "plt.plot(history.history['val_loss'], color='r', label=\"Validation loss\")\n",
    "plt.legend()\n",
    "plt.show()\n",
    "\n",
    "plt.figure()\n",
    "\n",
    "plt.figure(figsize=(8,8))\n",
    "plt.plot(history.history['accuracy'], color='b', label=\"Training accuracy\")\n",
    "plt.plot(history.history['val_accuracy'], color='r',label=\"Validation accuracy\")\n",
    "plt.legend()\n",
    "plt.ylim(0.5, 1)\n",
    "plt.show()"
   ]
  },
  {
   "cell_type": "code",
   "execution_count": 19,
   "metadata": {},
   "outputs": [
    {
     "data": {
      "text/plain": [
       "array(['collapsed_building', 'fire', 'flooded_areas', 'normal',\n",
       "       'traffic_incident'], dtype='<U18')"
      ]
     },
     "execution_count": 19,
     "metadata": {},
     "output_type": "execute_result"
    }
   ],
   "source": [
    "label_encoder.classes_"
   ]
  },
  {
   "cell_type": "code",
   "execution_count": 21,
   "metadata": {},
   "outputs": [
    {
     "name": "stdout",
     "output_type": "stream",
     "text": [
      "31/31 [==============================] - 1s 35ms/step\n"
     ]
    },
    {
     "data": {
      "image/png": "[encoded data removed]",
      "text/plain": [
       "<Figure size 800x600 with 2 Axes>"
      ]
     },
     "metadata": {},
     "output_type": "display_data"
    },
    {
     "name": "stdout",
     "output_type": "stream",
     "text": [
      "Classification Report:\n",
      "                    precision    recall  f1-score   support\n",
      "\n",
      "collapsed_building       0.89      0.84      0.87        77\n",
      "              fire       0.91      0.94      0.92        79\n",
      "     flooded_areas       0.92      0.91      0.92        79\n",
      "            normal       0.98      0.97      0.97       659\n",
      "  traffic_incident       0.80      0.92      0.85        73\n",
      "\n",
      "          accuracy                           0.95       967\n",
      "         macro avg       0.90      0.92      0.91       967\n",
      "      weighted avg       0.95      0.95      0.95       967\n",
      "\n"
     ]
    }
   ],
   "source": [
    "import numpy as np\n",
    "import matplotlib.pyplot as plt\n",
    "import seaborn as sns\n",
    "from sklearn.metrics import confusion_matrix, classification_report\n",
    "\n",
    "# Generate predictions using the model\n",
    "predictions = model.predict(test_data_generator)\n",
    "\n",
    "# Convert predictions to integer labels (class with highest probability)\n",
    "predicted_labels = np.argmax(predictions, axis=1)\n",
    "\n",
    "# If test_labels are in string format (class names), convert them to integer labels\n",
    "true_labels = label_encoder.transform(test_labels)  # Use label_encoder to convert to integer labels\n",
    "\n",
    "# Get class names from the label encoder (ensure label_encoder is already defined)\n",
    "class_names = label_encoder.classes_\n",
    "\n",
    "# Compute confusion matrix\n",
    "conf_matrix = confusion_matrix(true_labels, predicted_labels)\n",
    "\n",
    "# Plot the confusion matrix\n",
    "plt.figure(figsize=(8, 6))\n",
    "sns.heatmap(conf_matrix, annot=True, fmt='d', cmap='Blues', \n",
    "            xticklabels=class_names, yticklabels=class_names)\n",
    "plt.xlabel('Predicted')\n",
    "plt.ylabel('True')\n",
    "plt.title('Confusion Matrix')\n",
    "plt.show()\n",
    "\n",
    "# Print the classification report\n",
    "print(\"Classification Report:\")\n",
    "print(classification_report(true_labels, predicted_labels, target_names=class_names))"
   ]
  }
 ],
 "metadata": {
  "kernelspec": {
   "display_name": "Python 3",
   "language": "python",
   "name": "python3"
  },
  "language_info": {
   "codemirror_mode": {
    "name": "ipython",
    "version": 3
   },
   "file_extension": ".py",
   "mimetype": "text/x-python",
   "name": "python",
   "nbconvert_exporter": "python",
   "pygments_lexer": "ipython3",
   "version": "3.9.13"
  }
 },
 "nbformat": 4,
 "nbformat_minor": 2
}
